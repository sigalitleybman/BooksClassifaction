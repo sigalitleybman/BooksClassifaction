{
 "cells": [
  {
   "cell_type": "code",
   "execution_count": 1,
   "id": "7f987b33",
   "metadata": {},
   "outputs": [],
   "source": [
    "from bs4 import BeautifulSoup\n",
    "import os\n",
    "import pandas as pd\n",
    "import requests\n",
    "import warnings\n",
    "import time \n",
    "\n",
    "warnings.filterwarnings(\"ignore\")"
   ]
  },
  {
   "cell_type": "markdown",
   "id": "fdbe24c2",
   "metadata": {},
   "source": [
    "#### Code to prevent crwaling blocking by creating IPs"
   ]
  },
  {
   "cell_type": "code",
   "execution_count": 2,
   "id": "27d89048",
   "metadata": {},
   "outputs": [],
   "source": [
    "l={}\n",
    "u=list()\n",
    "url= \"https://www.proxynova.com/proxy-server-list/country-ISO 3166-2:IL/\"\n",
    "respo = requests.get(url).text\n",
    "soup = BeautifulSoup(respo, \"html.parser\")\n",
    "allproxy = soup.find_all(\"tr\")\n",
    "for proxy in allproxy:\n",
    "    foo = proxy.find_all(\"td\")\n",
    "try: \n",
    "    l[\"ip\"]=foo[0].text.replace(\"\\n\",\"\").replace(\"document.write(\",\"\").replace(\")\",\"\").replace(\"\\'\",\"\").replace(\";\",\"\")\n",
    "except:\n",
    "    l[\"ip\"]=None\n",
    "try:\n",
    "    l[\"port\"]=foo[1].text.replace(\"\\n\",\"\").replace(\" \",\"\")\n",
    "except:\n",
    "    l[\"port\"]=None\n",
    "try:\n",
    "    l[\"country\"]=foo[5].text.replace(\"\\n\",\"\").replace(\" \",\"\")\n",
    "except:\n",
    "    l[\"country\"]=None\n",
    "if(l[\"port\"] is not None):\n",
    "    u.append(l)\n",
    "l={}\n"
   ]
  },
  {
   "cell_type": "code",
   "execution_count": 3,
   "id": "c1e1c5aa",
   "metadata": {},
   "outputs": [],
   "source": [
    "def get_links_of_current_page(soup):\n",
    "    # find the div by it's specifc attributes.\n",
    "    tag_books = soup.findAll(\"div\", attrs = {\"class\":\"item-img\"}) \n",
    "    \n",
    "    # adding the prefix to each url.\n",
    "    current_page_books_links = [prefix_url + tag.find(\"a\")['href'] for tag in tag_books]     \n",
    "    \n",
    "    return current_page_books_links"
   ]
  },
  {
   "cell_type": "code",
   "execution_count": 4,
   "id": "15af3334",
   "metadata": {},
   "outputs": [],
   "source": [
    "def get_links(session, next_page_url):\n",
    "    \n",
    "    all_links = []\n",
    "\n",
    "    for page in range(1,56):\n",
    "        \n",
    "        response = session.get(next_page_url) \n",
    "        \n",
    "        soup =  BeautifulSoup(response.content, \"html.parser\")  # convert to BeautifulSoup format\n",
    "       \n",
    "        current_page_books_links = get_links_of_current_page(soup)\n",
    "        \n",
    "        all_links.extend(current_page_books_links) # add all the urls of the current page to the all_links list.\n",
    "\n",
    "        # here we advance to the next page, by building the next url\n",
    "        next_page_url = soup.find(\"li\", attrs = {\"id\":\"next-top\"})\n",
    "        next_page_url = prefix_url + next_page_url.find('a')['href']\n",
    "    \n",
    "    return all_links\n",
    "    "
   ]
  },
  {
   "cell_type": "code",
   "execution_count": 5,
   "id": "233ec531",
   "metadata": {},
   "outputs": [],
   "source": [
    "# inorder to save resources we've used a session\n",
    "session = requests.Session()"
   ]
  },
  {
   "cell_type": "markdown",
   "id": "daa95a05",
   "metadata": {},
   "source": [
    "# Getting All Literature-Contemporary-Fiction-books url's"
   ]
  },
  {
   "cell_type": "code",
   "execution_count": 6,
   "id": "b4a7287a",
   "metadata": {},
   "outputs": [],
   "source": [
    "# every url starts with this prefix\n",
    "prefix_url = \"https://www.bookdepository.com\"\n",
    "\n",
    "# every page has different suffix, we saved the suffix of the first page with paper back.  \n",
    "suffix_url_paper_back = \"/category/334/Contemporary-Fiction?searchTerm=&searchSortBy=&category=&price=&availability=&searchLang=&format=1\"\n",
    "\n",
    "# every page has different suffix, we saved the suffix of the first page with hard back.  \n",
    "suffix_url_hard_back = \"/category/334/Contemporary-Fiction?searchTerm=&searchSortBy=&category=&price=&availability=&searchLang=&format=2\""
   ]
  },
  {
   "cell_type": "markdown",
   "id": "84753385",
   "metadata": {},
   "source": [
    "### Getting contemoprary fiction paperback links"
   ]
  },
  {
   "cell_type": "code",
   "execution_count": 7,
   "id": "dcb139ce",
   "metadata": {},
   "outputs": [],
   "source": [
    "first_fiction_paperback_page_url = prefix_url + suffix_url_paper_back\n",
    "\n",
    "# start_time = time.time()\n",
    "fiction_paperback_links = get_links(session, first_fiction_paperback_page_url)\n",
    "\n",
    "# print('\\n\\tTotal time taken:' , time.time() - start_time)"
   ]
  },
  {
   "cell_type": "markdown",
   "id": "3608b395",
   "metadata": {},
   "source": [
    "### Getting contemoprary fiction hardback links"
   ]
  },
  {
   "cell_type": "code",
   "execution_count": 8,
   "id": "962e875e",
   "metadata": {},
   "outputs": [
    {
     "name": "stdout",
     "output_type": "stream",
     "text": [
      "\n",
      "\tTotal time taken: 27.34237003326416\n"
     ]
    }
   ],
   "source": [
    "first_fiction_hardback_page_url = prefix_url + suffix_url_hard_back\n",
    "\n",
    "start_time = time.time()\n",
    "fiction_hardback_links = get_links(session, first_fiction_hardback_page_url)\n",
    "print('\\n\\tTotal time taken:' , time.time() - start_time)"
   ]
  },
  {
   "cell_type": "code",
   "execution_count": 9,
   "id": "90fb466c",
   "metadata": {
    "scrolled": true
   },
   "outputs": [
    {
     "name": "stdout",
     "output_type": "stream",
     "text": [
      "1650\n",
      "1650\n",
      "https://www.bookdepository.com/It-Ends-With-Us-most-heartbreaking-novel-youll-ever-read-Colleen-Hoover/9781471156267?ref=grid-view\n",
      "https://www.bookdepository.com/Where-Crawdads-Sing-Delia-Owens/9781472154668?ref=grid-view\n",
      "https://www.bookdepository.com/Midnight-Library-Matt-Haig/9781786892737?ref=grid-view\n",
      "https://www.bookdepository.com/Normal-People-Sally-Rooney/9780571334650?ref=grid-view\n",
      "https://www.bookdepository.com/1984-George-Orwell/9780141036144?ref=grid-view\n",
      "https://www.bookdepository.com/Animal-Farm-George-Orwell/9780141036137?ref=grid-view\n",
      "https://www.bookdepository.com/Song-Achilles-Madeline-Miller/9781408891384?ref=grid-view\n",
      "https://www.bookdepository.com/Eleanor-Oliphant-is-Completely-Fine-Gail-Honeyman/9780008172145?ref=grid-view\n",
      "https://www.bookdepository.com/Handmaids-Tale-Margaret-Atwood/9780099511663?ref=grid-view\n",
      "https://www.bookdepository.com/Grandmaster-Demonic-Cultivation-Mo-Xiang-Tong-Xiu/9781648279195?ref=grid-view\n",
      "~~~~~~~~~~~~~~~~~~~~~~~~~~~~~~~~~~~~~~~~~~~~~~~~~~~~~~~~~~~~~~~~~~~~~~~~~~~~~~~~~~~~~~~~~~~~\n",
      "https://www.bookdepository.com/Fantastic-Beasts-Where-Find-Them-J-K-Rowling/9781408708989?ref=grid-view\n",
      "https://www.bookdepository.com/Tales-Beedle-Bard-J-K-Rowling/9780747599876?ref=grid-view\n",
      "https://www.bookdepository.com/Jolly-Christmas-Postman-Allan-Ahlberg/9780141340111?ref=grid-view\n",
      "https://www.bookdepository.com/Song-Achilles-Madeline-Miller/9781526648174?ref=grid-view\n",
      "https://www.bookdepository.com/Beautiful-World-Where-Are-You-Sally-Rooney/9780571365425?ref=grid-view\n",
      "https://www.bookdepository.com/Testaments-Margaret-Atwood/9781784742324?ref=grid-view\n",
      "https://www.bookdepository.com/Giving-Tree-SHEL-SILVERSTEIN/9780060256654?ref=grid-view\n",
      "https://www.bookdepository.com/Go-Set-Watchman-UK-Edition-Harper-Lee/9781785150289?ref=grid-view\n",
      "https://www.bookdepository.com/Harry-Potter-Philosophers-Stone-MinaLima-Edition-J-K-Rowling/9781526626585?ref=grid-view\n",
      "https://www.bookdepository.com/Circe-Madeline-Miller/9781408890080?ref=grid-view\n"
     ]
    }
   ],
   "source": [
    "print(len(fiction_paperback_links))\n",
    "print(len(fiction_hardback_links))\n",
    "\n",
    "\n",
    "for url in fiction_paperback_links[0:10]:\n",
    "    print(url)\n",
    "print(\"~~~~~~~~~~~~~~~~~~~~~~~~~~~~~~~~~~~~~~~~~~~~~~~~~~~~~~~~~~~~~~~~~~~~~~~~~~~~~~~~~~~~~~~~~~~~\")    \n",
    "for url in fiction_hardback_links[0:10]:\n",
    "    print(url)"
   ]
  },
  {
   "cell_type": "code",
   "execution_count": 10,
   "id": "f1e6c2c2",
   "metadata": {},
   "outputs": [],
   "source": [
    "# writing all fiction_paperback_links to a file\n",
    "with open('fiction_paperback_links.txt', 'w') as f:\n",
    "    for link in fiction_paperback_links:\n",
    "        f.write(link + '\\n')\n",
    "        \n",
    "# writing all fiction_hardback_links to a file\n",
    "with open('fiction_hardback_links.txt', 'w') as f:\n",
    "    for link in fiction_hardback_links:\n",
    "        f.write(link + '\\n')"
   ]
  },
  {
   "cell_type": "markdown",
   "id": "51e91aec",
   "metadata": {},
   "source": [
    "# Getting All Mind,Body & Spirit-books url's\n",
    "## for convenience purposes we'll call Mind,Body & Spirit an abbreviation of mbs "
   ]
  },
  {
   "cell_type": "code",
   "execution_count": 11,
   "id": "c6fb30e5",
   "metadata": {},
   "outputs": [],
   "source": [
    "# every page has different suffix, we saved the suffix of the first page with paper back of mbs\n",
    "suffix_url_paper_back_mbs = \"/category/2819/Mind-Body-Spirit/browse/viewmode/all?searchTerm=&searchSortBy=&category=&price=&availability=&searchLang=&format=1\"\n",
    "\n",
    "# every page has different suffix, we saved the suffix of the first page with hard back of mbs\n",
    "suffix_url_hard_back_mbs = \"/category/2819/Mind-Body-Spirit/browse/viewmode/all?searchTerm=&searchSortBy=&category=&price=&availability=&searchLang=&format=2\""
   ]
  },
  {
   "cell_type": "markdown",
   "id": "d47b28e9",
   "metadata": {},
   "source": [
    "### Getting MBS paperback links"
   ]
  },
  {
   "cell_type": "code",
   "execution_count": 12,
   "id": "8b8fa25a",
   "metadata": {},
   "outputs": [],
   "source": [
    "first_mbs_paperback_page_url = prefix_url + suffix_url_paper_back_mbs\n",
    "\n",
    "mbs_paperback_links = get_links(session, first_mbs_paperback_page_url)"
   ]
  },
  {
   "cell_type": "markdown",
   "id": "b104c8b4",
   "metadata": {},
   "source": [
    "### Getting MBS hardback links"
   ]
  },
  {
   "cell_type": "code",
   "execution_count": 13,
   "id": "e7369d3a",
   "metadata": {},
   "outputs": [
    {
     "name": "stdout",
     "output_type": "stream",
     "text": [
      "\n",
      "\tTotal time taken: 25.170389413833618\n"
     ]
    }
   ],
   "source": [
    "first_mbs_hardback_page_url = prefix_url + suffix_url_hard_back_mbs\n",
    "\n",
    "#check how much time it takes \n",
    "start_time = time.time()\n",
    "\n",
    "mbs_hardback_links = get_links(session, first_mbs_hardback_page_url)\n",
    "\n",
    "print('\\n\\tTotal time taken:' , time.time() - start_time)"
   ]
  },
  {
   "cell_type": "code",
   "execution_count": 14,
   "id": "b7036e57",
   "metadata": {},
   "outputs": [
    {
     "name": "stdout",
     "output_type": "stream",
     "text": [
      "1650\n",
      "1650\n",
      "https://www.bookdepository.com/Milk-Honey-Rupi-Kaur/9781449474256?ref=grid-view\n",
      "https://www.bookdepository.com/Power-Now-Eckhart-Tolle/9780340733509?ref=grid-view\n",
      "https://www.bookdepository.com/Body-Keeps-Score-Bessel-van-der-Kolk/9780141978611?ref=grid-view\n",
      "https://www.bookdepository.com/Happiness-Trap-Russ-Harris/9781845298258?ref=grid-view\n",
      "https://www.bookdepository.com/Four-Agreements-Don-Miguel-Ruiz/9781878424310?ref=grid-view\n",
      "https://www.bookdepository.com/Gifts-Imperfection-Brene-Brown/9781592858491?ref=grid-view\n",
      "https://www.bookdepository.com/Untethered-Soul-Michael-Singer/9781572245372?ref=grid-view\n",
      "https://www.bookdepository.com/Little-Book-Mindfulness-Dr-Patrizia-Collard/9781856753531?ref=grid-view\n",
      "https://www.bookdepository.com/Daily-Stoic-Ryan-Holiday/9781781257654?ref=grid-view\n",
      "https://www.bookdepository.com/Women-Who-Run-with-Wolves-Clarissa-Pinkola-Estes/9780345409874?ref=grid-view\n",
      "~~~~~~~~~~~~~~~~~~~~~~~~~~~~~~~~~~~~~~~~~~~~~~~~~~~~~~~~~~~~~~~~~~~~~~~~~~~~~~~~~~~~~~~~~~~~\n",
      "https://www.bookdepository.com/Boy-Mole-Fox-Horse-Charlie-Mackesy/9781529105100?ref=grid-view\n",
      "https://www.bookdepository.com/Secret-Rhonda-Byrne/9781847370297?ref=grid-view\n",
      "https://www.bookdepository.com/Ikigai-Hector-Garcia/9781786330895?ref=grid-view\n",
      "https://www.bookdepository.com/Medical-Medium-Life-Changing-Foods-Anthony-William/9781401948320?ref=grid-view\n",
      "https://www.bookdepository.com/Green-Witch-Arin-Murphy-Hiscock/9781507204719?ref=grid-view\n",
      "https://www.bookdepository.com/Medical-Medium-Liver-Rescue-Anthony-William/9781401954406?ref=grid-view\n",
      "https://www.bookdepository.com/Book-Joy-Sunday-Times-Bestseller-Dalai-Lama/9781786330444?ref=grid-view\n",
      "https://www.bookdepository.com/Medical-Medium-Thyroid-Healing-Anthony-William/9781401948368?ref=grid-view\n",
      "https://www.bookdepository.com/Medical-Medium-Cleanse-Heal-Anthony-William/9781401958459?ref=grid-view\n",
      "https://www.bookdepository.com/Limitless-Jim-Kwik/9781401958237?ref=grid-view\n"
     ]
    }
   ],
   "source": [
    "print(len(mbs_paperback_links))\n",
    "print(len(mbs_hardback_links))\n",
    "\n",
    "\n",
    "for url in mbs_paperback_links[0:10]:\n",
    "    print(url)\n",
    "print(\"~~~~~~~~~~~~~~~~~~~~~~~~~~~~~~~~~~~~~~~~~~~~~~~~~~~~~~~~~~~~~~~~~~~~~~~~~~~~~~~~~~~~~~~~~~~~\")    \n",
    "for url in mbs_hardback_links[0:10]:\n",
    "    print(url)"
   ]
  },
  {
   "cell_type": "code",
   "execution_count": 15,
   "id": "9ba0f887",
   "metadata": {},
   "outputs": [],
   "source": [
    "# writing all mbs_paperback_links to a file\n",
    "with open('mbs_paperback_links.txt', 'w') as f:\n",
    "    for link in mbs_paperback_links:\n",
    "        f.write(link + '\\n')\n",
    "        \n",
    "# writing all mbs_hardback_links to a file\n",
    "with open('mbs_hardback_links.txt', 'w') as f:\n",
    "    for link in mbs_hardback_links:\n",
    "        f.write(link + '\\n')"
   ]
  },
  {
   "cell_type": "markdown",
   "id": "efb21af1",
   "metadata": {},
   "source": [
    "# Getting Sport-books url's"
   ]
  },
  {
   "cell_type": "code",
   "execution_count": 17,
   "id": "6efd4270",
   "metadata": {},
   "outputs": [],
   "source": [
    "# every page has different suffix, we saved the suffix of the first page with paper back of sport\n",
    "suffix_url_paper_back_sport = \"/category/3013/Sport/browse/viewmode/all?searchTerm=&searchSortBy=&category=&price=&availability=&searchLang=&format=1\"\n",
    "\n",
    "# every page has different suffix, we saved the suffix of the first page with hard back of sport\n",
    "suffix_url_hard_back_sport = \"/category/3013/Sport/browse/viewmode/all?searchTerm=&searchSortBy=&category=&price=&availability=&searchLang=&format=2\""
   ]
  },
  {
   "cell_type": "markdown",
   "id": "4ce291f5",
   "metadata": {},
   "source": [
    "### Getting sport paperback links"
   ]
  },
  {
   "cell_type": "code",
   "execution_count": 18,
   "id": "12323313",
   "metadata": {},
   "outputs": [],
   "source": [
    "first_sport_paperback_page_url = prefix_url + suffix_url_paper_back_sport\n",
    "\n",
    "sport_paperback_links = get_links(session, first_sport_paperback_page_url)"
   ]
  },
  {
   "cell_type": "markdown",
   "id": "c309410d",
   "metadata": {},
   "source": [
    "### Getting sport hardback links"
   ]
  },
  {
   "cell_type": "code",
   "execution_count": 19,
   "id": "a65e9a90",
   "metadata": {},
   "outputs": [
    {
     "name": "stdout",
     "output_type": "stream",
     "text": [
      "\n",
      "\tTotal time taken: 25.796631574630737\n"
     ]
    }
   ],
   "source": [
    "first_sport_hardback_page_url = prefix_url + suffix_url_hard_back_sport\n",
    "\n",
    "#check how much time it takes \n",
    "start_time = time.time()\n",
    "\n",
    "sport_hardback_links = get_links(session, first_sport_hardback_page_url)\n",
    "\n",
    "print('\\n\\tTotal time taken:' , time.time() - start_time)"
   ]
  },
  {
   "cell_type": "code",
   "execution_count": 20,
   "id": "b2267208",
   "metadata": {},
   "outputs": [
    {
     "name": "stdout",
     "output_type": "stream",
     "text": [
      "1650\n",
      "1650\n",
      "https://www.bookdepository.com/Legacy-James-Kerr/9781472103536?ref=grid-view\n",
      "https://www.bookdepository.com/Born-Run-Christopher-McDougall/9781861978776?ref=grid-view\n",
      "https://www.bookdepository.com/Yoga-Anatomy-Leslie-Kaminoff/9781450400244?ref=grid-view\n",
      "https://www.bookdepository.com/Salt-Path-Raynor-Winn/9781405937184?ref=grid-view\n",
      "https://www.bookdepository.com/4-Hour-Body-Timothy-Ferriss/9780091939526?ref=grid-view\n",
      "https://www.bookdepository.com/Breath-James-Nestor/9780241289129?ref=grid-view\n",
      "https://www.bookdepository.com/Relentless-Tim-S-Grover/9781476714202?ref=grid-view\n",
      "https://www.bookdepository.com/Into-Thin-Air-Jon-Krakauer/9781447200185?ref=grid-view\n",
      "https://www.bookdepository.com/Range-David-Epstein/9781509843527?ref=grid-view\n",
      "https://www.bookdepository.com/Harry-Potter-Collectible-Quidditch-Set-Running-Press/9780762459452?ref=grid-view\n",
      "~~~~~~~~~~~~~~~~~~~~~~~~~~~~~~~~~~~~~~~~~~~~~~~~~~~~~~~~~~~~~~~~~~~~~~~~~~~~~~~~~~~~~~~~~~~~\n",
      "https://www.bookdepository.com/Mamba-Mentality-How-I-Play-Kobe-Bryant/9780374201234?ref=grid-view\n",
      "https://www.bookdepository.com/Wim-Hof-Method-Wim-Hof/9781846046292?ref=grid-view\n",
      "https://www.bookdepository.com/Norwegian-Wood-Lars-Mytting/9780857052551?ref=grid-view\n",
      "https://www.bookdepository.com/Diddly-Squat-Jeremy-Clarkson/9780241464502?ref=grid-view\n",
      "https://www.bookdepository.com/How-Build-Car-Adrian-Newey/9780008196806?ref=grid-view\n",
      "https://www.bookdepository.com/Epic-Bike-Rides-World-Lonely-Planet/9781760340834?ref=grid-view\n",
      "https://www.bookdepository.com/My-Life-Red-White-Arsene-Wenger/9781474618243?ref=grid-view\n",
      "https://www.bookdepository.com/Dangerous-Book-for-Boys-Conn-Iggulden/9780062208972?ref=grid-view\n",
      "https://www.bookdepository.com/Breath-James-Nestor/9780735213616?ref=grid-view\n",
      "https://www.bookdepository.com/Epic-Hikes-World-Lonely-Planet/9781787014176?ref=grid-view\n"
     ]
    }
   ],
   "source": [
    "print(len(sport_paperback_links))\n",
    "print(len(sport_hardback_links))\n",
    "\n",
    "\n",
    "for url in sport_paperback_links[0:10]:\n",
    "    print(url)\n",
    "print(\"~~~~~~~~~~~~~~~~~~~~~~~~~~~~~~~~~~~~~~~~~~~~~~~~~~~~~~~~~~~~~~~~~~~~~~~~~~~~~~~~~~~~~~~~~~~~\")    \n",
    "for url in sport_hardback_links[0:10]:\n",
    "    print(url)"
   ]
  },
  {
   "cell_type": "code",
   "execution_count": 21,
   "id": "580f82dc",
   "metadata": {},
   "outputs": [],
   "source": [
    "# writing all sport_paperback_links to a file\n",
    "with open('sport_paperback_links.txt', 'w') as f:\n",
    "    for link in sport_paperback_links:\n",
    "        f.write(link + '\\n')\n",
    "        \n",
    "# writing all sport_hardback_links to a file\n",
    "with open('sport_hardback_links.txt', 'w') as f:\n",
    "    for link in sport_hardback_links:\n",
    "        f.write(link + '\\n')"
   ]
  }
 ],
 "metadata": {
  "kernelspec": {
   "display_name": "Python 3",
   "language": "python",
   "name": "python3"
  },
  "language_info": {
   "codemirror_mode": {
    "name": "ipython",
    "version": 3
   },
   "file_extension": ".py",
   "mimetype": "text/x-python",
   "name": "python",
   "nbconvert_exporter": "python",
   "pygments_lexer": "ipython3",
   "version": "3.8.8"
  }
 },
 "nbformat": 4,
 "nbformat_minor": 5
}
